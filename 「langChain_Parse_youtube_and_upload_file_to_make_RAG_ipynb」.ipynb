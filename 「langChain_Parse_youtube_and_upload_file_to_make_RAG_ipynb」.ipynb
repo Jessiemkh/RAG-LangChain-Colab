{
  "nbformat": 4,
  "nbformat_minor": 0,
  "metadata": {
    "colab": {
      "provenance": [],
      "authorship_tag": "ABX9TyMBx08/p7D4LpqQq8Tb2nQl",
      "include_colab_link": true
    },
    "kernelspec": {
      "name": "python3",
      "display_name": "Python 3"
    },
    "language_info": {
      "name": "python"
    }
  },
  "cells": [
    {
      "cell_type": "markdown",
      "metadata": {
        "id": "view-in-github",
        "colab_type": "text"
      },
      "source": [
        "<a href=\"https://colab.research.google.com/github/Jessiemkh/RAG-LangChain-Colab/blob/main/%E3%80%8ClangChain_Parse_youtube_and_upload_file_to_make_RAG_ipynb%E3%80%8D.ipynb\" target=\"_parent\"><img src=\"https://colab.research.google.com/assets/colab-badge.svg\" alt=\"Open In Colab\"/></a>"
      ]
    },
    {
      "cell_type": "markdown",
      "source": [
        "# 安裝必要的庫 Install necessary packages"
      ],
      "metadata": {
        "id": "MGZRYbQAMznY"
      }
    },
    {
      "cell_type": "code",
      "execution_count": null,
      "metadata": {
        "colab": {
          "base_uri": "https://localhost:8080/"
        },
        "id": "10PAM6WtMH_V",
        "outputId": "b3af4e8a-0938-4926-cb24-7b9e23e0b9e2",
        "collapsed": true
      },
      "outputs": [
        {
          "output_type": "stream",
          "name": "stdout",
          "text": [
           
          ]
        }
      ],
      "source": [
        "!pip install gradio google-generativeai youtube_transcript_api python-docx PyPDF2 langchain chromadb  langchain-google-genai langchain-community faiss-cpu unstructured[pdf] python-docx pandas openpyxl\n"
      ]
    },
    {
      "cell_type": "markdown",
      "source": [
        "如果有需要，更新下面的庫 update packages if needed"
      ],
      "metadata": {
        "id": "x5VmIfgrbWOf"
      }
    },
    {
      "cell_type": "code",
      "source": [
        "!pip install --upgrade google-generativeai langchain-google-genai youtube_transcript_api python-docx PyPDF2 gradio tenacity"
      ],
      "metadata": {
        "colab": {
          "base_uri": "https://localhost:8080/"
        },
        "id": "MKidoNRza7ag",
        "outputId": "4f1d4b9c-4e6e-4500-e964-e0a094e80d4f",
        "collapsed": true
      },
      "execution_count": null,
      "outputs": [
        {
          "output_type": "stream",
          "name": "stdout",
          "text": [
          
          ]
        }
      ]
    },
    {
      "cell_type": "markdown",
      "source": [
        "# 實作方式 How it work\n",
        "\n",
        "1.   將youtube影片轉成文本，將檔案上傳成chucks。 Convert youtube videos to text, or upload files to chucks\n",
        "2.   創建向量數據庫，建立知識庫，創建RAG AI。Create vector database, build knowledge base, create RAG AI\n",
        "3.   並加入 tavily 網路搜索做補充，（ＲＡＧ和 網路搜索分開）。Add tavily web search as supplement (RAG and web search are separate)\n",
        "\n",
        "\n",
        "\n",
        "\n"
      ],
      "metadata": {
        "id": "oGdj0cvoMzJJ"
      }
    },
    {
      "cell_type": "code",
      "source": [
        "import gradio as gr\n",
        "import os\n",
        "import pandas as pd\n",
        "from langchain.document_loaders import YoutubeLoader, CSVLoader, UnstructuredPDFLoader, UnstructuredWordDocumentLoader\n",
        "from langchain.text_splitter import RecursiveCharacterTextSplitter\n",
        "from langchain_google_genai import GoogleGenerativeAIEmbeddings, ChatGoogleGenerativeAI\n",
        "from langchain.vectorstores import FAISS\n",
        "from langchain.chains import RetrievalQA\n",
        "from langchain.tools import TavilySearchResults\n",
        "from google.colab import userdata\n",
        "# 設置API密鑰\n",
        "# 設置你的 api key 到環境變數 set your api key to env\n",
        "os.environ[\"GOOGLE_API_KEY\"] = userdata.get('GOOGLE_API_KEY')\n",
        "os.environ[\"TAVILY_API_KEY\"] = userdata.get('TAVILY_API_KEY')\n",
        "\n",
        "def process_file(file_path):\n",
        "    # 根據文件類型選擇適當的加載器 choose propriate loader accroding to your uploaded file\n",
        "    file_extension = file_path.split('.')[-1].lower()\n",
        "    if file_extension == 'csv':\n",
        "        loader = CSVLoader(file_path=file_path)\n",
        "    elif file_extension == 'pdf':\n",
        "        loader = UnstructuredPDFLoader(file_path)\n",
        "    elif file_extension in ['docx', 'doc']:\n",
        "        loader = UnstructuredWordDocumentLoader(file_path)\n",
        "    else:\n",
        "        raise ValueError(f\"不支持的文件類型not supported file type: {file_extension}\")\n",
        "\n",
        "    # 加載文檔 loading\n",
        "    documents = loader.load()\n",
        "\n",
        "    # 設置文本分割器 set the text splitter\n",
        "    text_splitter = RecursiveCharacterTextSplitter(chunk_size=1000, chunk_overlap=200)\n",
        "\n",
        "    # 分割文本 split\n",
        "    chunks = []\n",
        "    for doc in documents:\n",
        "        doc_chunks = text_splitter.split_text(doc.page_content)\n",
        "        chunks.extend(doc_chunks)\n",
        "\n",
        "    return chunks\n",
        "\n",
        "def process_youtube(url):\n",
        "    loader = YoutubeLoader.from_youtube_url(url)\n",
        "    documents = loader.load()\n",
        "    text_splitter = RecursiveCharacterTextSplitter(chunk_size=1000, chunk_overlap=200)\n",
        "    chunks = []\n",
        "    for doc in documents:\n",
        "        doc_chunks = text_splitter.split_text(doc.page_content)\n",
        "        chunks.extend(doc_chunks)\n",
        "    return chunks\n",
        "\n",
        "def create_knowledge_base(chunks):\n",
        "    embeddings = GoogleGenerativeAIEmbeddings(model=\"models/embedding-001\")\n",
        "    knowledge_base = FAISS.from_texts(chunks, embeddings)\n",
        "    return knowledge_base\n",
        "\n",
        "def tavily_search(query):\n",
        "    tavily_tool = TavilySearchResults()\n",
        "    tavily_result = tavily_tool.run(query)\n",
        "    return tavily_result\n",
        "def answer_query(knowledge_base, query, use_web_search):\n",
        "    llm = ChatGoogleGenerativeAI(model=\"gemini-2.0-flash-001\")\n",
        "    qa_chain = RetrievalQA.from_chain_type(\n",
        "        llm=llm,\n",
        "        chain_type=\"stuff\",\n",
        "        retriever=knowledge_base.as_retriever()\n",
        "    )\n",
        "\n",
        "    rag_response = qa_chain.run(query)\n",
        "\n",
        "    if use_web_search:\n",
        "        tavily_result = tavily_search(query)\n",
        "        combined_response = llm.predict(f\"\"\"\n",
        "        基於以下信息回答問題:\n",
        "\n",
        "        RAG系統回答: {rag_response}\n",
        "\n",
        "        網絡搜索結果: {tavily_result}\n",
        "\n",
        "        請綜合上述信息,提供一個全面的回答。如果RAG系統的回答已經足夠全面,可以主要使用RAG的內容,\n",
        "        並用網絡搜索結果進行補充或驗證。如果RAG系統的回答不夠完整,請使用網絡搜索結果來擴展回答。\n",
        "\n",
        "        問題: {query}\n",
        "        \"\"\")\n",
        "        return f\"RAG + 網路搜索回答:\\n{combined_response}\"\n",
        "    else:\n",
        "        return f\"僅RAG回答:\\n{rag_response}\"\n",
        "\n",
        "def process_input(file, youtube_url, query, use_web_search):\n",
        "    chunks = []\n",
        "    if file:\n",
        "        try:\n",
        "            file_chunks = process_file(file.name)\n",
        "            chunks.extend(file_chunks)\n",
        "        except Exception as e:\n",
        "            return f\"處理文件時發生錯誤error in processing files: {str(e)}\"\n",
        "    if youtube_url:\n",
        "        try:\n",
        "            youtube_chunks = process_youtube(youtube_url)\n",
        "            chunks.extend(youtube_chunks)\n",
        "        except Exception as e:\n",
        "            return f\"處理YouTube URL時發生錯誤error in processing youtube url: {str(e)}\"\n",
        "\n",
        "    if not chunks:\n",
        "        return \"請上傳文件或提供YouTube URL please upload file or provide youtube url\"\n",
        "\n",
        "    knowledge_base = create_knowledge_base(chunks)\n",
        "    answer = answer_query(knowledge_base, query, use_web_search)\n",
        "    return answer\n",
        "\n",
        "iface = gr.Interface(\n",
        "    fn=process_input,\n",
        "    inputs=[\n",
        "        gr.File(label=\"上傳文件 (CSV, PDF, Word)\"),\n",
        "        gr.Textbox(label=\"YouTube URL (可選)\"),\n",
        "        gr.Textbox(label=\"輸入您的問題 your question \"),\n",
        "        gr.Checkbox(label=\"使用網路搜索 use internet search as support\", value=True)\n",
        "    ],\n",
        "    outputs=gr.Textbox(label=\"回答\"),\n",
        "    title=\"智能文檔和youtube影片查詢系統 (RAG + 可選網路搜索)\",\n",
        "    description=\"上傳CSV、PDF或Word文件,或輸入YouTube URL,然後提出問題。您可以選擇是否使用網路搜索來補充RAG系統的回答。\",\n",
        "    flagging_dir=\"/content/my_flagged_data\", #存入你想要存的資料夾\n",
        "    flagging_options=[(\"儲存此對話內容到CSV save data\",\"儲存問答\")],\n",
        ")\n",
        "\n",
        "iface.launch()\n"
      ],
      "metadata": {
        "colab": {
          "base_uri": "https://localhost:8080/",
          "height": 646
        },
        "id": "DyPpRCNqkRuu",
        "outputId": "99f0dc60-d467-4c8d-d9cd-548ceabedfb2"
      },
      "execution_count": null,
      "outputs": [
        {
          "output_type": "stream",
          "name": "stdout",
          "text": [
           
          ]
        },
        {
          "output_type": "display_data",
          "data": {
            "text/plain": [
              "<IPython.core.display.HTML object>"
            ],
            "text/html": [
             
            ]
          },
          "metadata": {}
        },
        {
          "output_type": "execute_result",
          "data": {
            "text/plain": []
          },
          "metadata": {},
          "execution_count": 26
        }
      ]
    }
  ]
}
